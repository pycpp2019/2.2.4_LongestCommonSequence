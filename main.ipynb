{
 "cells": [
  {
   "cell_type": "code",
   "execution_count": 67,
   "metadata": {},
   "outputs": [],
   "source": [
    "import numpy as np\n",
    "\n",
    "def lcs_bf(a, b):\n",
    "    np.array = []\n",
    "    last = 0\n",
    "    for i in range(len(a)):\n",
    "        for j in range(last, len(b)):\n",
    "            if a[i] == b[j]:\n",
    "                np.array.append(a[i])\n",
    "                last = j + 1\n",
    "                break\n",
    "            else:\n",
    "                continue\n",
    "    return np.array"
   ]
  }
 ],
 "metadata": {
  "kernelspec": {
   "display_name": "Python 3",
   "language": "python",
   "name": "python3"
  },
  "language_info": {
   "codemirror_mode": {
    "name": "ipython",
    "version": 3
   },
   "file_extension": ".py",
   "mimetype": "text/x-python",
   "name": "python",
   "nbconvert_exporter": "python",
   "pygments_lexer": "ipython3",
   "version": "3.7.5"
  }
 },
 "nbformat": 4,
 "nbformat_minor": 2
}
