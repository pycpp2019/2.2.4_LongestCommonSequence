{
 "cells": [
  {
   "cell_type": "code",
   "execution_count": 15,
   "metadata": {},
   "outputs": [],
   "source": [
    "import numpy as np\n",
    "\n",
    "def lcs_bf(x, y):\n",
    "    if len(x) == 0 or len(y) == 0:\n",
    "        return []\n",
    "    if x[-1] == y[-1]:\n",
    "        return np.append(lcs_bf(x[:-1], y[:-1]), x[-1])\n",
    "    else:\n",
    "        left = lcs_bf(x[:-1], y)\n",
    "        right = lcs_bf(x, y[:-1])\n",
    "        return np.array(left) if len(left) > len(right) else np.array(right)\n",
    "    \n",
    "def lcs(x, y):\n",
    "    L = [[0]*(len(y)+1) for _ in range(len(x)+1)]\n",
    "    for x_i,x_elem in enumerate(x):\n",
    "        for y_i,y_elem in enumerate(y):\n",
    "            if x_elem == y_elem:\n",
    "                L[x_i][y_i] = L[x_i-1][y_i-1] + 1\n",
    "            else:\n",
    "                L[x_i][y_i] = max((L[x_i][y_i-1],L[x_i-1][y_i]))\n",
    "    LCS = []\n",
    "    x_i,y_i = len(x)-1,len(y)-1\n",
    "    while x_i >= 0 and y_i >= 0:\n",
    "        if x[x_i] == y[y_i]:\n",
    "            LCS.append(x[x_i])\n",
    "            x_i, y_i = x_i-1, y_i-1\n",
    "        elif L[x_i-1][y_i] > L[x_i][y_i-1]:\n",
    "            x_i -= 1\n",
    "        else:\n",
    "            y_i -= 1\n",
    "    LCS.reverse()\n",
    "    return (np.array(LCS))"
   ]
  }
 ],
 "metadata": {
  "kernelspec": {
   "display_name": "Python 3",
   "language": "python",
   "name": "python3"
  },
  "language_info": {
   "codemirror_mode": {
    "name": "ipython",
    "version": 3
   },
   "file_extension": ".py",
   "mimetype": "text/x-python",
   "name": "python",
   "nbconvert_exporter": "python",
   "pygments_lexer": "ipython3",
   "version": "3.7.5"
  }
 },
 "nbformat": 4,
 "nbformat_minor": 2
}
